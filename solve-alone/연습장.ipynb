{
 "cells": [
  {
   "cell_type": "markdown",
   "id": "ffac04a8",
   "metadata": {},
   "source": [
    "## maplestory-dice"
   ]
  },
  {
   "cell_type": "code",
   "execution_count": 2,
   "id": "63e5aa2c",
   "metadata": {},
   "outputs": [
    {
     "name": "stdout",
     "output_type": "stream",
     "text": [
      "{'STR': 8, 'DEX': 5, 'INT': 8, 'LUK': 4}\n"
     ]
    }
   ],
   "source": [
    "import random\n",
    "\n",
    "def roll_dice():\n",
    "    return random.randint(4, 13)\n",
    "\n",
    "def generate_stats():\n",
    "    while True:\n",
    "        stats = {\n",
    "            \"STR\": roll_dice(),\n",
    "            \"DEX\": roll_dice(),\n",
    "            \"INT\": roll_dice(),\n",
    "            \"LUK\": roll_dice()\n",
    "        }   \n",
    "        if sum(stats.values()) <= 25:\n",
    "            return stats\n",
    "\n",
    "if __name__ == \"__main__\":\n",
    "    stats = generate_stats()\n",
    "    print(stats)\n",
    "    "
   ]
  },
  {
   "cell_type": "code",
   "execution_count": 14,
   "id": "fdfb244a",
   "metadata": {},
   "outputs": [
    {
     "data": {
      "text/plain": [
       "41"
      ]
     },
     "execution_count": 14,
     "metadata": {},
     "output_type": "execute_result"
    }
   ],
   "source": [
    "stat = {'STR': 12, 'DEX': 13, 'INT': 12, 'LUK': 4}\n",
    "\n",
    "sum(stat.values())"
   ]
  },
  {
   "cell_type": "code",
   "execution_count": null,
   "id": "84920a5d",
   "metadata": {},
   "outputs": [],
   "source": []
  }
 ],
 "metadata": {
  "kernelspec": {
   "display_name": ".venv",
   "language": "python",
   "name": "python3"
  },
  "language_info": {
   "codemirror_mode": {
    "name": "ipython",
    "version": 3
   },
   "file_extension": ".py",
   "mimetype": "text/x-python",
   "name": "python",
   "nbconvert_exporter": "python",
   "pygments_lexer": "ipython3",
   "version": "3.12.11"
  }
 },
 "nbformat": 4,
 "nbformat_minor": 5
}
