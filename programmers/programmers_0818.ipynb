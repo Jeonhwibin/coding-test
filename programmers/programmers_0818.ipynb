{
 "cells": [
  {
   "cell_type": "markdown",
   "id": "817d18db",
   "metadata": {},
   "source": [
    "## 성격 유형 검사하기"
   ]
  },
  {
   "cell_type": "code",
   "execution_count": null,
   "id": "e64e3f4d",
   "metadata": {},
   "outputs": [],
   "source": [
    "print(\"start\")"
   ]
  },
  {
   "cell_type": "code",
   "execution_count": null,
   "id": "6c08ee47",
   "metadata": {},
   "outputs": [],
   "source": [
    "a = [\"TR\", \"RT\", \"CR\"]\n",
    "a[0][1]+a[1][0]+a[2][0]"
   ]
  },
  {
   "cell_type": "code",
   "execution_count": null,
   "id": "07d740bb",
   "metadata": {},
   "outputs": [],
   "source": [
    "# [R , T]\n",
    "# [C , F]\n",
    "# [J , M]\n",
    "# [A , N]"
   ]
  },
  {
   "cell_type": "code",
   "execution_count": null,
   "id": "0d465244",
   "metadata": {},
   "outputs": [],
   "source": [
    "survey = ['AN','CF','MJ','RT','NA']\n",
    "choices = [5, 3, 2, 7, 5]\n",
    "\n",
    "\n",
    "def solution(survey,choices):\n",
    "    \n",
    "    element = {\"R\":0,\"T\":0,\"F\":0,\"C\":0,\"M\":0,\"J\":0,\"A\":0,\"N\":0}\n",
    "    answer =''\n",
    "    for i in range(len(choices)):\n",
    "        if choices[i] >= 5:\n",
    "            element[survey[i][1]] += choices[i] - 4\n",
    "        elif choices[i] == 4:\n",
    "            continue\n",
    "        else:\n",
    "            element[survey[i][0]] += 4 - choices[i]\n",
    "\n",
    "    if element[\"R\"] >= element[\"T\"]:\n",
    "        answer += \"R\"\n",
    "    else:\n",
    "        answer += \"T\"\n",
    "\n",
    "    if element[\"F\"] > element[\"C\"]:\n",
    "        answer += \"F\"\n",
    "    else:\n",
    "        answer += \"C\"    \n",
    "    \n",
    "    if element[\"M\"] > element[\"J\"]:\n",
    "        answer += \"M\"\n",
    "    else:\n",
    "        answer += \"J\"\n",
    "\n",
    "    if element[\"A\"] >= element[\"N\"]:\n",
    "        answer += \"A\"\n",
    "    else:\n",
    "        answer += \"N\"\n",
    "\n",
    "    return answer\n",
    "\n",
    "solution(['AN','CF','MJ','RT','NA'],[5, 3, 2, 7, 5])\n",
    "\n",
    "# ex_a = [\"TR\", \"RT\", \"TR\"]\n",
    "# ex_b = [7, 1, 3]\n",
    "\n",
    "# solution(ex_a,ex_b)\n",
    "\n",
    "\n",
    "# solution(survey,choices)\n",
    "\n",
    "# survey2 = [\"TR\", \"RT\", \"TR\"]\n",
    "# choices2 = [7,1,3]\n",
    "\n",
    "# solution(survey2,choices2)\n",
    "\n",
    "\n",
    "\n",
    "    "
   ]
  },
  {
   "cell_type": "code",
   "execution_count": null,
   "id": "1d05e200",
   "metadata": {},
   "outputs": [],
   "source": [
    "element = {\"R\":0,\"T\":0,\"F\":0,\"C\":0,\"M\":0,\"J\":0,\"A\":0,\"N\":0}\n",
    "\n",
    "element[\"T\"] += 1\n",
    "\n",
    "element['A'] += 2 \n",
    "\n",
    "element"
   ]
  },
  {
   "cell_type": "code",
   "execution_count": null,
   "id": "c369a38c",
   "metadata": {},
   "outputs": [],
   "source": []
  },
  {
   "cell_type": "code",
   "execution_count": null,
   "id": "fe460ef6",
   "metadata": {},
   "outputs": [],
   "source": []
  }
 ],
 "metadata": {
  "kernelspec": {
   "display_name": ".venv",
   "language": "python",
   "name": "python3"
  },
  "language_info": {
   "name": "python",
   "version": "3.12.11"
  }
 },
 "nbformat": 4,
 "nbformat_minor": 5
}
